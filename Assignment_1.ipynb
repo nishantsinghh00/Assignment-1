{
  "nbformat": 4,
  "nbformat_minor": 0,
  "metadata": {
    "colab": {
      "provenance": []
    },
    "kernelspec": {
      "name": "python3",
      "display_name": "Python 3"
    },
    "language_info": {
      "name": "python"
    }
  },
  "cells": [
    {
      "cell_type": "code",
      "source": [],
      "metadata": {
        "id": "2yBVZKUpzVYd"
      },
      "execution_count": null,
      "outputs": []
    },
    {
      "cell_type": "code",
      "execution_count": null,
      "metadata": {
        "id": "HXrl6p2HtgQM"
      },
      "outputs": [],
      "source": []
    },
    {
      "cell_type": "markdown",
      "source": [
        "1. Explain the main components of client-server architecture and thir function.\n",
        "  - a.client;\n",
        "      funtion=the client is the device that initiates a request for resource or services from the server.\n",
        "  - b.server;\n",
        "       function=the server recieve the request from client and and process the request(follow protocols) and provides resource that requested by client.\n",
        "   - c.network;\n",
        "       function=network helps to communicate between client and server globally.\n",
        "   - d.protocols;\n",
        "       function=protocols defiend which form of data is transmitted between client and server.\n",
        "\n",
        "2. Discuss the various career paths available after completing a web development course.\n",
        "  - a.Front-end developer.\n",
        "  - b.Back-end  developer.\n",
        "  - c.Full-stack  developer.\n",
        "  - d.Web designer.\n",
        "\n",
        "3. Describe the role of a web browser's developer tools in web development.\n",
        "  - Web browser's developer tools play very crucial rool in web development.It helps developer to inspect,debug,optimize websites.They help developers to understand and modify website behaviour in real time.\n",
        "  - some example are;\n",
        "  - a. Inspecting and Editing HTML & CSS\n",
        "  - b.  Debugging JavaScript\n",
        "  - c. Monitoring Network Requests\n",
        "\n",
        "4. What are advantages of using a version control system like git in development project?\n",
        "  - the advantages of using a version control system like git in development project are as follows;\n",
        "  - a. For track changes and history or our code.\n",
        "  - b. Facilitates Team Collaboration.\n",
        "  - c. Prevents Code Conflicts\n",
        "  - d. Increases Productivity & Efficiency\n",
        "\n",
        "5.   Compare and contrast a text editor and an IDE,highlighting their key features and uses.\n",
        "  - Defination;\n",
        "  - Text editor= A lightweight tool that allows writing and editing plain text files,including code.We need some extensions to run and debug or code Lke VS code.\n",
        "  - IDE(integreted development enviorment)=it provides all function to developer for write and debug code.we dont need any extensions to run or debug or code.IDE provides all the neccesery kit that we need to write and debug our code.\n",
        "  - key features;\n",
        "  - Text editor\n",
        "  - a. no debugging tools(we need to download extension)\n",
        "  - b. for use small and light project.\n",
        "  - c. lightwight resourse use then IDE.\n",
        "  - d. no built in git control version(we need to download extensions).\n",
        "  - IDE;\n",
        "  - a. bulit in debugging tools.\n",
        "  - b. for large and heavy projects.\n",
        "  - c. large resourse use then text editor.\n",
        "  - d. bulit in git control version.                     \n",
        "\n"
      ],
      "metadata": {
        "id": "6sBDvI3VtnH6"
      }
    }
  ]
}